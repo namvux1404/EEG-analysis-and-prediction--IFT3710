{
 "cells": [
  {
   "cell_type": "code",
   "execution_count": 2,
   "metadata": {
    "collapsed": true
   },
   "outputs": [],
   "source": [
    "import pandas as pd\n",
    "from xgboost import XGBClassifier\n",
    "from sklearn.model_selection import cross_val_score,GridSearchCV,KFold,GroupKFold\n",
    "import matplotlib.pyplot as plt\n",
    "from os.path import exists\n",
    "import csv"
   ]
  },
  {
   "cell_type": "markdown",
   "source": [
    "Lecture du fichier sur les données sur les participants"
   ],
   "metadata": {
    "collapsed": false
   }
  },
  {
   "cell_type": "code",
   "execution_count": 3,
   "outputs": [],
   "source": [
    "infodfPath= r\"C:\\Users\\live_\\Documents\\Coding_practice\\PytorchPractice\\MedidationEegCode\\data\\participants.tsv\"\n",
    "infodf = pd.read_csv(infodfPath, sep='\\t')"
   ],
   "metadata": {
    "collapsed": false,
    "pycharm": {
     "name": "#%%\n"
    }
   }
  },
  {
   "cell_type": "markdown",
   "source": [
    "Selection des identifiants des participants faisant pas partie du groupe contrôle et de ceux ayant 10 ans d'expertise"
   ],
   "metadata": {
    "collapsed": false
   }
  },
  {
   "cell_type": "code",
   "execution_count": 4,
   "outputs": [],
   "source": [
    "#Selection des patients qui font partie du groupe contrôle\n",
    "dfisCtr= infodf[infodf[\"group\"]==\"ctr\"]\n",
    "\n",
    "#Selection des de leur id\n",
    "idsCtr = dfisCtr[\"participant_id\"].unique()\n",
    "#on ne prend que le chiffre de l'id\n",
    "idsCtrPure = [int(i[-3:]) for i in idsCtr]\n",
    "\n",
    "#Selection des participants ne faisant pas partie du groupe contrôle\n",
    "dfnotCtr= infodf[infodf[\"group\"]!=\"ctr\"]\n",
    "#Selection des participants avec plus de dix ans d'expérience\n",
    "df10 = dfnotCtr[dfnotCtr[\"years_of_practice\"]>=10]\n",
    "#Selection de leurs identifiants\n",
    "df10Ids = df10[\"participant_id\"].unique()\n",
    "ids10 = [int(i[-3:]) for i in df10Ids]\n"
   ],
   "metadata": {
    "collapsed": false,
    "pycharm": {
     "name": "#%%\n"
    }
   }
  },
  {
   "cell_type": "markdown",
   "source": [
    "Fonction d'entraînement du Xgboost et de fonction de sauvegarde des résultats dans un fichier Csv"
   ],
   "metadata": {
    "collapsed": false
   }
  },
  {
   "cell_type": "code",
   "execution_count": 5,
   "outputs": [],
   "source": [
    "def XgboostGroupKfoldGridSearch(df,columnsToDrop,param_grid):\n",
    "    \"\"\"Fonction qui entraine le model Xgboost avec cross validation et selon la combinaison de paramètres données en entrée\"\"\"\n",
    "    model = XGBClassifier()\n",
    "\n",
    "    group_kfold = GroupKFold(n_splits=10)\n",
    "\n",
    "    grid_search = GridSearchCV(model, param_grid, scoring=\"accuracy\", n_jobs=-1, cv=group_kfold,verbose=10)\n",
    "    grid_result = grid_search.fit(df.drop(columns=columnsToDrop), df[\"MeditationState\"],groups=df[\"subId\"])\n",
    "    return grid_result\n",
    "\n",
    "def resultSavingCsv(grid_result,path,columnComb,dfread):\n",
    "    \"\"\"Sauvegarde des résultats dans un fichier csv\"\"\"\n",
    "\n",
    "    if not exists(path):\n",
    "        resultfile = open(path,\"a\")\n",
    "        writer = csv.writer(resultfile)\n",
    "        writer.writerow([\"model\",\"colsample_bylevel\",\"gamma\",\"learning_rate\",\"max_depth\",\"n_estimators\",\"subsample\",\"accuracy\",\"accuracy_std\",\"Columns\"])\n",
    "\n",
    "    else:\n",
    "        resultfile = open(path,\"a\")\n",
    "        writer = csv.writer(resultfile)\n",
    "\n",
    "    print(\"Best: %f using %s\" % (grid_result.best_score_, grid_result.best_params_))\n",
    "    means = grid_result.cv_results_['mean_test_score']\n",
    "    stds = grid_result.cv_results_['std_test_score']\n",
    "    params = grid_result.cv_results_['params']\n",
    "    for mean, stdev, param in zip(means, stds, params):\n",
    "        print(\"%f (%f) with: %r\" % (mean, stdev, param))\n",
    "        writer.writerow([\"xgboost\",param[\"colsample_bylevel\"],param[\"gamma\"],param[\"learning_rate\"],param[\"max_depth\"],param[\"n_estimators\"],param[\"subsample\"],mean,stdev,columnComb+dfread])\n",
    "    resultfile.close()"
   ],
   "metadata": {
    "collapsed": false,
    "pycharm": {
     "name": "#%%\n"
    }
   }
  },
  {
   "cell_type": "markdown",
   "source": [
    "Chemin da'accès des fichiers,combinaisons des colonnes et hyperparamètres"
   ],
   "metadata": {
    "collapsed": false
   }
  },
  {
   "cell_type": "code",
   "execution_count": 40,
   "outputs": [
    {
     "name": "stdout",
     "output_type": "stream",
     "text": [
      "Fitting 10 folds for each of 96 candidates, totalling 960 fits\n"
     ]
    }
   ],
   "source": [
    "\n",
    "dfsPaths = [(\"\",\"editationDataFourierSimpleFeatures.csv\"),(\"_G_extended\",\"editationDataFourierSimpleFeaturesGExtended.csv\")]\n",
    "columnsToDropCombinations = [(\"allFeatures\",[\"subId\",\"MeditationState\"]),(\"waves_only\",['Mean', 'Std', 'Min', 'Max',\n",
    "       'Kurtosis', 'Skewness',\"subId\",\"MeditationState\"])]\n",
    "\n",
    "\n",
    "n_estimators = [100]\n",
    "max_depth = range(2,10,1)\n",
    "learning_rate = [0.01]\n",
    "subsample = [0.5, 0.75, 1.0]\n",
    "colsample_bylevel= [0.4, 0.6, 0.8, 1.0]\n",
    "gamma = [0]\n",
    "\n",
    "param_grid = dict(n_estimators=n_estimators,max_depth=max_depth,learning_rate=learning_rate,subsample=subsample,\n",
    "                  colsample_bylevel=colsample_bylevel,gamma=gamma)\n",
    "\n",
    "\n"
   ],
   "metadata": {
    "collapsed": false,
    "pycharm": {
     "name": "#%%\n"
    }
   }
  },
  {
   "cell_type": "markdown",
   "source": [
    "Entraînement des models sur chaque dataset et avec les hyperparamètres"
   ],
   "metadata": {
    "collapsed": false
   }
  },
  {
   "cell_type": "code",
   "execution_count": null,
   "outputs": [],
   "source": [
    "for dfPath in dfsPaths:\n",
    "\n",
    "    df= pd.read_csv(dfPath[1])\n",
    "    #Selection des données des patients ne faisant pas partie du grouep contrôle\n",
    "\n",
    "    dfDatanoCtr = df[~df[\"subId\"].isin(idsCtrPure)].drop(columns=\"Unnamed: 0\")\n",
    "    #Selection des données des participants avec dix ans d'expériences\n",
    "    dfData10 = df[df[\"subId\"].isin(ids10)].drop(columns=\"Unnamed: 0\")\n",
    "    for columnToDrop in columnsToDropCombinations:\n",
    "\n",
    "        grid_resultsAllSubjects = XgboostGroupKfoldGridSearch(df,columnToDrop[1],param_grid)\n",
    "        grid_resultsNoCtr = XgboostGroupKfoldGridSearch(dfDatanoCtr,columnToDrop[1],param_grid)\n",
    "        grid_results10Years = XgboostGroupKfoldGridSearch(dfData10,columnToDrop[1],param_grid)\n",
    "\n",
    "\n",
    "        resultSavingCsv(grid_resultsAllSubjects,\"xgboostModelsResultsAllSubjects.csv\",columnToDrop[0],dfPath[0])\n",
    "        resultSavingCsv(grid_resultsNoCtr,\"xgboostModelsResultsNoCtr.csv\",columnToDrop[0],dfPath[0])\n",
    "        resultSavingCsv(grid_results10Years,\"xgboostModelsResults10YearsPractice.csv\",columnToDrop[0],dfPath[0])"
   ],
   "metadata": {
    "collapsed": false,
    "pycharm": {
     "name": "#%%\n"
    }
   }
  }
 ],
 "metadata": {
  "kernelspec": {
   "display_name": "Python 3",
   "language": "python",
   "name": "python3"
  },
  "language_info": {
   "codemirror_mode": {
    "name": "ipython",
    "version": 2
   },
   "file_extension": ".py",
   "mimetype": "text/x-python",
   "name": "python",
   "nbconvert_exporter": "python",
   "pygments_lexer": "ipython2",
   "version": "2.7.6"
  }
 },
 "nbformat": 4,
 "nbformat_minor": 0
}