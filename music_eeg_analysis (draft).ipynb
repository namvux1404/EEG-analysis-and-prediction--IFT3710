{
 "cells": [
  {
   "cell_type": "code",
   "execution_count": 82,
   "id": "16acca2a",
   "metadata": {},
   "outputs": [],
   "source": [
    "# NOTES FOR COMPILATION IN THE CLUSTER\n",
    "# Here's the list of packages that we need to import:\n",
    "# numpy, glob2, matplot, pymatreader, mne\n",
    "\n",
    "# Notes that are specified for the cluster will have comments next to the word \"CLUSTER\".\n",
    "\n",
    "# glob2: accessing the files in the folder\n",
    "# pymatreader: access the visual graph of EEG (optional for cluster compilation)\n",
    "\n",
    "from glob import glob\n",
    "import os\n",
    "import mne\n",
    "import numpy as np\n",
    "import matplotlib.pyplot as plt\n",
    "import random"
   ]
  },
  {
   "cell_type": "code",
   "execution_count": 83,
   "id": "82204ac1",
   "metadata": {},
   "outputs": [
    {
     "data": {
      "text/plain": [
       "240"
      ]
     },
     "execution_count": 83,
     "metadata": {},
     "output_type": "execute_result"
    }
   ],
   "source": [
    "# Array that stores all the set files for music thinking\n",
    "\n",
    "# CLUSTER: The path needs to be changed ('def-sponsor00/*.set' for example)\n",
    "#          The symbol * means any sequence of characters.\n",
    "\n",
    "all_eeg_path = glob('Music Thinking/sub-*/ses-*/eeg/*.set')\n",
    "len(all_eeg_path)"
   ]
  },
  {
   "cell_type": "code",
   "execution_count": 84,
   "id": "fc8dd189",
   "metadata": {},
   "outputs": [
    {
     "name": "stdout",
     "output_type": "stream",
     "text": [
      "112\n",
      "128\n"
     ]
    }
   ],
   "source": [
    "# Array for the labels\n",
    "\n",
    "# CLUSTER: The path needs to be changed as well\n",
    "behaviour_data = np.genfromtxt('Music Thinking/stimuli/Behavioural_data.txt')\n",
    "behaviour_data = behaviour_data[1:]\n",
    "\n",
    "labels = behaviour_data[:,2]\n",
    "for i in range(labels.shape[0]):\n",
    "    # Enjoyment level 1 or 2 -> enjoy the most\n",
    "    if labels[i] <= 2:\n",
    "        labels[i] = 1\n",
    "        \n",
    "    # Neutral or does not enjoy (enjoyment levels 3 to 5)\n",
    "    else:\n",
    "        labels[i] = 0\n",
    "        \n",
    "# The proportion of people liking/disliking the music is relatively the same.\n",
    "print(np.count_nonzero(labels == 1)) # LIKE\n",
    "print(np.count_nonzero(labels == 0)) # DISLIKE\n",
    "#labels"
   ]
  },
  {
   "cell_type": "code",
   "execution_count": 85,
   "id": "8f117093",
   "metadata": {},
   "outputs": [
    {
     "name": "stdout",
     "output_type": "stream",
     "text": [
      "5 5\n"
     ]
    }
   ],
   "source": [
    "# Associate each path to the corresponding class (binary classification)\n",
    "like_path = []\n",
    "dislike_path = []\n",
    "\n",
    "for i in range(labels.shape[0]):\n",
    "    if labels[i] == 1:\n",
    "        like_path = np.append(like_path, all_eeg_path[i])\n",
    "    else:\n",
    "        dislike_path = np.append(dislike_path, all_eeg_path[i])\n",
    "\n",
    "# Test: 5 paths\n",
    "like_path = like_path[0:5]\n",
    "dislike_path = dislike_path[0:5]\n",
    "        \n",
    "print(like_path.shape[0], dislike_path.shape[0])"
   ]
  },
  {
   "cell_type": "code",
   "execution_count": 86,
   "id": "aea20ebf",
   "metadata": {},
   "outputs": [],
   "source": [
    "# Function that reads EEG Data (set extension file)\n",
    "def read_set_data(path):\n",
    "    music_data = mne.io.read_raw_eeglab(path, preload = True)\n",
    "    #music_data.set_eeg_reference()\n",
    "    \n",
    "    epochs = mne.make_fixed_length_epochs(music_data, duration = 3, overlap = 2, preload = True)\n",
    "    music_array = epochs.get_data()\n",
    "    print(f'Dimensions of music_array: {music_array.shape}')\n",
    "    \n",
    "    number_epochs = 4\n",
    "    array_epochs = np.empty(number_epochs, dtype = object)\n",
    "\n",
    "    for i in range(number_epochs):\n",
    "        chosen_number = random.randint(0, array.shape[0]-1)\n",
    "        print(chosen_number)\n",
    "        array_epochs[i] = array[chosen_number]\n",
    "    \n",
    "    return array_epochs"
   ]
  },
  {
   "cell_type": "code",
   "execution_count": 87,
   "id": "3916570a",
   "metadata": {},
   "outputs": [],
   "source": [
    "%%capture\n",
    "random.seed(0)\n",
    "\n",
    "like_epoch_array = np.empty((len(like_path)), dtype = object)\n",
    "dislike_epoch_array = np.empty((len(dislike_path)), dtype = object)\n",
    "\n",
    "for i in range(len(like_path)):\n",
    "    like_epoch_array[i] = read_set_data(like_path[i])\n",
    "    \n",
    "for i in range(len(dislike_path)):\n",
    "    dislike_epoch_array[i] = read_set_data(dislike_path[i])"
   ]
  },
  {
   "cell_type": "code",
   "execution_count": 88,
   "id": "deb6ccbe",
   "metadata": {},
   "outputs": [
    {
     "data": {
      "text/plain": [
       "(4,)"
      ]
     },
     "execution_count": 88,
     "metadata": {},
     "output_type": "execute_result"
    }
   ],
   "source": [
    "like_epoch_array[0].shape"
   ]
  },
  {
   "cell_type": "code",
   "execution_count": 89,
   "id": "cf3385ee",
   "metadata": {},
   "outputs": [
    {
     "name": "stdout",
     "output_type": "stream",
     "text": [
      "5 5\n"
     ]
    }
   ],
   "source": [
    "# Assign the labels for each epoch\n",
    "like_epoch_labels = np.empty((len(like_path)), dtype = object)\n",
    "dislike_epoch_labels = np.empty((len(dislike_path)), dtype = object)\n",
    "\n",
    "for i in range(len(like_path)):\n",
    "    like_epoch_labels[i] = len(like_epoch_array[i]) * [1]\n",
    "    \n",
    "for i in range(len(dislike_path)):\n",
    "    dislike_epoch_labels[i] = len(dislike_epoch_array[i]) * [0]\n",
    "    \n",
    "print(len(like_epoch_labels), len(dislike_epoch_labels))"
   ]
  },
  {
   "cell_type": "code",
   "execution_count": 90,
   "id": "32c4e125",
   "metadata": {},
   "outputs": [],
   "source": [
    "# Assign the individuals for each epoch\n",
    "data_list = np.append(like_epoch_array, dislike_epoch_array)\n",
    "label_list = np.append(like_epoch_labels, dislike_epoch_labels)\n",
    "\n",
    "# 10 individuals, 4 epochs per individual, (129 x 750) "
   ]
  },
  {
   "cell_type": "code",
   "execution_count": 91,
   "id": "fb32d6f4",
   "metadata": {},
   "outputs": [
    {
     "name": "stdout",
     "output_type": "stream",
     "text": [
      "10\n"
     ]
    }
   ],
   "source": [
    "person_list = np.empty((10), dtype = object)\n",
    "for i in range(len(person_list)):\n",
    "    person_list[i] = len(data_list[i]) * [i]\n",
    "    \n",
    "print(len(person_list))"
   ]
  },
  {
   "cell_type": "code",
   "execution_count": 79,
   "id": "06ce332e",
   "metadata": {},
   "outputs": [],
   "source": [
    "#label_list = np.hstack(label_list)\n",
    "#person_list = np.hstack(person_list)\n",
    "#data_list = np.hstack(data_list)"
   ]
  },
  {
   "cell_type": "code",
   "execution_count": 116,
   "id": "e7fb27db",
   "metadata": {},
   "outputs": [],
   "source": [
    "X_train = np.append(like_epoch_array[0:3], dislike_epoch_array[0:3])\n",
    "X_val = np.append(like_epoch_array[3:4], dislike_epoch_array[3:4])\n",
    "X_test = np.append(like_epoch_array[4:5], dislike_epoch_array[4:5])\n",
    "\n",
    "y_train = np.append(like_epoch_labels[0:3], dislike_epoch_labels[0:3])\n",
    "y_val = np.append(like_epoch_labels[3:4], dislike_epoch_labels[3:4])\n",
    "y_test = np.append(like_epoch_labels[4:5], dislike_epoch_labels[4:5])"
   ]
  }
 ],
 "metadata": {
  "kernelspec": {
   "display_name": "Python 3 (ipykernel)",
   "language": "python",
   "name": "python3"
  },
  "language_info": {
   "codemirror_mode": {
    "name": "ipython",
    "version": 3
   },
   "file_extension": ".py",
   "mimetype": "text/x-python",
   "name": "python",
   "nbconvert_exporter": "python",
   "pygments_lexer": "ipython3",
   "version": "3.9.5"
  }
 },
 "nbformat": 4,
 "nbformat_minor": 5
}
